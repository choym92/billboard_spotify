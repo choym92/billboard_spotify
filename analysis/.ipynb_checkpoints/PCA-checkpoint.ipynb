{
 "cells": [
  {
   "cell_type": "code",
   "execution_count": 1,
   "metadata": {},
   "outputs": [],
   "source": [
    "# Initializing\n",
    "# data processing. pandas as alias pd\n",
    "import pandas as pd \n",
    "# linear algebra. numpy as alias np\n",
    "import numpy as np \n",
    "# If you're working with a notebook, don't forget to use Matplotlib magic! \n",
    "%matplotlib inline\n",
    "# matlab-style plotting\n",
    "import matplotlib.pyplot as plt \n",
    "## ggplot\n",
    "plt.style.use('ggplot')\n",
    "import seaborn as sns\n",
    "color = sns.color_palette()\n",
    "# Set the Seaborn theme if desired\n",
    "sns.set_style(\"darkgrid\")\n",
    "# ignore sklearn & seaborn warnings\n",
    "import warnings\n",
    "def ignore_warn(*args, **kwargs):\n",
    "    pass\n",
    "warnings.warn = ignore_warn \n",
    "#for some statistics\n",
    "from scipy import stats\n",
    "from scipy.stats import norm, skew  #ex. sns(fit = norm)\n",
    "# Format scientific notation from pandas aggregation\n",
    "pd.set_option('display.float_format', lambda x: '%.3f' % x)\n",
    "pd.set_option('display.max_columns', 500)\n",
    "pd.set_option('display.width', 1000) \n"
   ]
  },
  {
   "cell_type": "code",
   "execution_count": 2,
   "metadata": {},
   "outputs": [],
   "source": [
    "df90_10 = pd.read_csv('f90_10a.csv')"
   ]
  },
  {
   "cell_type": "code",
   "execution_count": 4,
   "metadata": {},
   "outputs": [
    {
     "data": {
      "text/plain": [
       "(120108, 37)"
      ]
     },
     "execution_count": 4,
     "metadata": {},
     "output_type": "execute_result"
    }
   ],
   "source": [
    "df90_10"
   ]
  }
 ],
 "metadata": {
  "kernelspec": {
   "display_name": "Python 3",
   "language": "python",
   "name": "python3"
  },
  "language_info": {
   "codemirror_mode": {
    "name": "ipython",
    "version": 3
   },
   "file_extension": ".py",
   "mimetype": "text/x-python",
   "name": "python",
   "nbconvert_exporter": "python",
   "pygments_lexer": "ipython3",
   "version": "3.6.5"
  }
 },
 "nbformat": 4,
 "nbformat_minor": 2
}
